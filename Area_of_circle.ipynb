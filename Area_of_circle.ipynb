{
 "cells": [
  {
   "cell_type": "code",
   "execution_count": 11,
   "metadata": {},
   "outputs": [
    {
     "name": "stdout",
     "output_type": "stream",
     "text": [
      "Radius of the circle in CM:1.1\n",
      "Area of the circle is 3.8028571428571434 CM²\n"
     ]
    }
   ],
   "source": [
    "#Code to generate area of circle when radius is given\n",
    "\n",
    "PI = 22/7\n",
    "r = float(input('Radius of the circle in CM:'))\n",
    "area = (PI)*(r**2)\n",
    "\n",
    "print(\"Area of the circle is\",area, \"CM²\")"
   ]
  }
 ],
 "metadata": {
  "kernelspec": {
   "display_name": "Python 3",
   "language": "python",
   "name": "python3"
  },
  "language_info": {
   "codemirror_mode": {
    "name": "ipython",
    "version": 3
   },
   "file_extension": ".py",
   "mimetype": "text/x-python",
   "name": "python",
   "nbconvert_exporter": "python",
   "pygments_lexer": "ipython3",
   "version": "3.8.2"
  }
 },
 "nbformat": 4,
 "nbformat_minor": 4
}
