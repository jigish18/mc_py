{
 "cells": [
  {
   "cell_type": "code",
   "execution_count": null,
   "metadata": {},
   "outputs": [],
   "source": []
  },
  {
   "cell_type": "code",
   "execution_count": 35,
   "metadata": {},
   "outputs": [
    {
     "name": "stdout",
     "output_type": "stream",
     "text": [
      "{'m': 1, 'i': 4, 's': 4, 'p': 2}\n"
     ]
    }
   ],
   "source": [
    "#code to display frequency of letters in a word\n",
    "def most_frequent(string): #string is 'mississippi'\n",
    "    d = dict()  #substituting 'd' for dictionary, where 'd' is an empty dictionary\n",
    "    for k in string: #for loop- 'k' is the letter that is being processed\n",
    "        if k in d: #if that letter appears, add one to its count\n",
    "            d[k] += 1\n",
    "        else:  #or else leave it as it is \n",
    "            d[k] = 1\n",
    "    return d #ends execution and returns the statement\n",
    "print(most_frequent('mississippi'))\n",
    "#done\n"
   ]
  }
 ],
 "metadata": {
  "kernelspec": {
   "display_name": "Python 3",
   "language": "python",
   "name": "python3"
  },
  "language_info": {
   "codemirror_mode": {
    "name": "ipython",
    "version": 3
   },
   "file_extension": ".py",
   "mimetype": "text/x-python",
   "name": "python",
   "nbconvert_exporter": "python",
   "pygments_lexer": "ipython3",
   "version": "3.8.2"
  }
 },
 "nbformat": 4,
 "nbformat_minor": 4
}
